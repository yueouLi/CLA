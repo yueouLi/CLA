{
  "cells": [
    {
      "cell_type": "markdown",
      "metadata": {
        "id": "LH8YqQddlZ5J"
      },
      "source": [
        "## Singular Value Decomposition\n",
        "\n",
        "Here's a simple example of using Singular Value Decomposition (SVD) in Python, using the scikit-learn library, to achieve dimensionality reduction on a Word-Document matrix:"
      ]
    },
    {
      "cell_type": "code",
      "execution_count": 2,
      "metadata": {},
      "outputs": [
        {
          "name": "stdout",
          "output_type": "stream",
          "text": [
            "Collecting scikit-learn\n",
            "  Downloading scikit_learn-1.3.0-cp310-cp310-macosx_10_9_x86_64.whl (10.2 MB)\n",
            "\u001b[2K     \u001b[90m━━━━━━━━━━━━━━━━━━━━━━━━━━━━━━━━━━━━━━━━\u001b[0m \u001b[32m10.2/10.2 MB\u001b[0m \u001b[31m6.2 MB/s\u001b[0m eta \u001b[36m0:00:00\u001b[0m00:01\u001b[0m0:01\u001b[0m\n",
            "\u001b[?25hRequirement already satisfied: numpy>=1.17.3 in /Library/Frameworks/Python.framework/Versions/3.10/lib/python3.10/site-packages (from scikit-learn) (1.24.1)\n",
            "Requirement already satisfied: joblib>=1.1.1 in /Library/Frameworks/Python.framework/Versions/3.10/lib/python3.10/site-packages (from scikit-learn) (1.2.0)\n",
            "Collecting threadpoolctl>=2.0.0\n",
            "  Using cached threadpoolctl-3.1.0-py3-none-any.whl (14 kB)\n",
            "Collecting scipy>=1.5.0\n",
            "  Downloading scipy-1.11.1-cp310-cp310-macosx_10_9_x86_64.whl (37.2 MB)\n",
            "\u001b[2K     \u001b[90m━━━━━━━━━━━━━━━━━━━━━━━━━━━━━━━━━━━━━━━━\u001b[0m \u001b[32m37.2/37.2 MB\u001b[0m \u001b[31m13.1 MB/s\u001b[0m eta \u001b[36m0:00:00\u001b[0m00:01\u001b[0m00:01\u001b[0m\n",
            "\u001b[?25hInstalling collected packages: threadpoolctl, scipy, scikit-learn\n",
            "Successfully installed scikit-learn-1.3.0 scipy-1.11.1 threadpoolctl-3.1.0\n",
            "\n",
            "\u001b[1m[\u001b[0m\u001b[34;49mnotice\u001b[0m\u001b[1;39;49m]\u001b[0m\u001b[39;49m A new release of pip available: \u001b[0m\u001b[31;49m22.2.2\u001b[0m\u001b[39;49m -> \u001b[0m\u001b[32;49m23.1.2\u001b[0m\n",
            "\u001b[1m[\u001b[0m\u001b[34;49mnotice\u001b[0m\u001b[1;39;49m]\u001b[0m\u001b[39;49m To update, run: \u001b[0m\u001b[32;49mpip3 install --upgrade pip\u001b[0m\n",
            "Note: you may need to restart the kernel to use updated packages.\n"
          ]
        }
      ],
      "source": [
        "pip install scikit-learn\n"
      ]
    },
    {
      "cell_type": "code",
      "execution_count": null,
      "metadata": {},
      "outputs": [],
      "source": [
        "import "
      ]
    },
    {
      "cell_type": "code",
      "execution_count": 3,
      "metadata": {
        "colab": {
          "base_uri": "https://localhost:8080/"
        },
        "id": "fsW94WrolQx1",
        "outputId": "7757bdef-83b4-4e83-c0de-b14bdd504053"
      },
      "outputs": [
        {
          "name": "stdout",
          "output_type": "stream",
          "text": [
            "Matrix U:\n",
            "[[ 1.9033128   1.5       ]\n",
            " [ 0.83678751  0.5       ]\n",
            " [ 1.25845291 -0.5       ]\n",
            " [ 2.54817269 -0.5       ]\n",
            " [ 1.37005015 -1.        ]]\n",
            "\n",
            "Explained Variance:\n",
            "[0.34833391 0.8       ]\n",
            "\n",
            "Matrix V^T:\n",
            "[[ 0.22146275  0.50372751  0.33306     0.67439503  0.36259513]\n",
            " [ 0.25        0.75       -0.25       -0.25       -0.5       ]]\n"
          ]
        }
      ],
      "source": [
        "from sklearn.decomposition import TruncatedSVD\n",
        "\n",
        "# Create a sample Word-Document matrix\n",
        "C = [[1, 2, 0, 1, 0],\n",
        "     [0, 1, 1, 0, 0],\n",
        "     [1, 0, 0, 1, 1],\n",
        "     [0, 1, 1, 2, 1],\n",
        "     [0, 0, 1, 1, 1]]\n",
        "\n",
        "# Apply Singular Value Decomposition\n",
        "svd = TruncatedSVD(n_components=2)  # Specify the desired number of dimensions\n",
        "U = svd.fit_transform(C)\n",
        "E = svd.explained_variance_\n",
        "Vt = svd.components_\n",
        "\n",
        "# Print the decomposed matrices\n",
        "print(\"Matrix U:\")\n",
        "print(U)\n",
        "print(\"\\nExplained Variance:\")\n",
        "print(E)\n",
        "print(\"\\nMatrix V^T:\")\n",
        "print(Vt)\n"
      ]
    },
    {
      "cell_type": "markdown",
      "metadata": {
        "id": "qmaBXrBOlhCd"
      },
      "source": [
        "In this example, we start by creating a sample Word-Document matrix `C`, where rows represent documents and columns represent words. Each entry in the matrix represents the frequency or occurrence of a word in a particular document.\n",
        "\n",
        "We then use the `TruncatedSVD` class from scikit-learn to perform Singular Value Decomposition on the matrix `C`. We specify the desired number of dimensions (`n_components=2` in this case) that we want to reduce the matrix to.\n",
        "\n",
        "The `fit_transform()` method is used to decompose the matrix `C`. It returns the transformed matrix `U`, which represents the reduced dimensions. The `explained_variance_` attribute gives us the explained variance for each of the selected dimensions. The components_ attribute provides the matrix `V^T`, which represents the importance of each word in the reduced dimensions.\n",
        "\n",
        "Finally, we print the decomposed matrices `U`, `E`, and `V^T` to demonstrate the results of the dimensionality reduction process.\n",
        "\n",
        "**Note** that in a real-world scenario, you would typically apply pre-processing steps like tokenization, stemming, stop-word removal, etc., to the raw text data before constructing the Word-Document matrix. This example focuses solely on the SVD aspect for simplicity."
      ]
    },
    {
      "cell_type": "markdown",
      "metadata": {
        "id": "zpKZJi8mn0fU"
      },
      "source": [
        "### Explained Variance\n",
        "\n",
        "**Explained Variance** indicates the contribution of each singular value towards explaining the total variance in the data. \n",
        "\n",
        "The explained variance is calculated by taking the **square of each singular value** and dividing it by the sum of the squares of all the singular values. This ratio represents the proportion of total variance explained by that singular value.\n",
        "\n",
        "By examining the explained variance, we can determine which singular values contribute the most to the overall variance in the data. The cumulative sum of the explained variance provides an indication of how many dimensions are required to capture a desired amount of variance. A higher cumulative sum suggests that fewer dimensions are needed to represent a significant portion of the variance.\n",
        "\n",
        "By considering the explained variance, we can effectively determine the appropriate number of dimensions to retain during dimensionality reduction using SVD."
      ]
    },
    {
      "cell_type": "code",
      "execution_count": 7,
      "metadata": {
        "colab": {
          "base_uri": "https://localhost:8080/"
        },
        "id": "Iyevwh0nlY-8",
        "outputId": "1b36d295-c23e-4663-aaed-de420368a189"
      },
      "outputs": [
        {
          "name": "stdout",
          "output_type": "stream",
          "text": [
            "Original Matrix C:\n",
            "[[1 2 0 1 0]\n",
            " [0 1 1 0 0]\n",
            " [1 0 0 1 1]\n",
            " [0 1 1 2 1]\n",
            " [0 0 1 1 1]]\n",
            "\n",
            "Reconstructed Matrix C:\n",
            "[[ 0.44682723  1.23396549 -0.07918509  0.14711607 -0.35960364]\n",
            " [ 0.16455229  0.44682723 -0.00291919  0.09657365 -0.09431024]\n",
            " [-0.00291919 -0.07918509  0.24600078  0.39562903  0.35894786]\n",
            " [ 0.09657365  0.14711607  0.39562903  0.69860311  0.52184486]\n",
            " [-0.09431024 -0.35960364  0.35894786  0.52184486  0.57304306]]\n"
          ]
        }
      ],
      "source": [
        "import numpy as np\n",
        "from sklearn.decomposition import TruncatedSVD\n",
        "\n",
        "# Create a sample Word-Document matrix\n",
        "C = np.array([[1, 2, 0, 1, 0],\n",
        "              [0, 1, 1, 0, 0],\n",
        "              [1, 0, 0, 1, 1],\n",
        "              [0, 1, 1, 2, 1],\n",
        "              [0, 0, 1, 1, 1]])\n",
        "\n",
        "# Apply Singular Value Decomposition\n",
        "svd = TruncatedSVD(n_components=2)  # Specify the desired number of dimensions\n",
        "U = svd.fit_transform(C)\n",
        "E = svd.explained_variance_\n",
        "Vt = svd.components_\n",
        "\n",
        "# Reconstruct the original matrix\n",
        "C_reconstructed = U @ np.diag(E) @ Vt\n",
        "\n",
        "# Print the original and reconstructed matrices\n",
        "print(\"Original Matrix C:\")\n",
        "print(C)\n",
        "print(\"\\nReconstructed Matrix C:\")\n",
        "print(C_reconstructed)\n"
      ]
    },
    {
      "cell_type": "markdown",
      "metadata": {
        "id": "Zo8y7b2dmkXI"
      },
      "source": [
        "In this code, after performing SVD on the Word-Document matrix C, we reconstruct the original matrix using the decomposed matrices U, E, and V^T.\n",
        "\n",
        "The `@` operator is used for matrix multiplication. First, we multiply U with a diagonal matrix created from E (which converts it back to the original dimensions), and then multiply the result with V^T to obtain the reconstructed matrix C_reconstructed.\n",
        "\n",
        "Finally, we print both the original matrix C and the reconstructed matrix C_reconstructed to observe the similarity between them.\n",
        "\n",
        "By comparing the original and reconstructed matrices, you can observe how well the dimensionality reduction process retains the essential information from the original matrix. The reconstructed matrix should closely resemble the original matrix C, indicating the effectiveness of the dimensionality reduction achieved by SVD."
      ]
    },
    {
      "cell_type": "code",
      "execution_count": 6,
      "metadata": {},
      "outputs": [
        {
          "name": "stdout",
          "output_type": "stream",
          "text": [
            "Collecting matplotlib\n",
            "  Downloading matplotlib-3.7.1-cp310-cp310-macosx_10_12_x86_64.whl (7.4 MB)\n",
            "\u001b[2K     \u001b[90m━━━━━━━━━━━━━━━━━━━━━━━━━━━━━━━━━━━━━━━━\u001b[0m \u001b[32m7.4/7.4 MB\u001b[0m \u001b[31m12.4 MB/s\u001b[0m eta \u001b[36m0:00:00\u001b[0m00:01\u001b[0m00:01\u001b[0m\n",
            "\u001b[?25hRequirement already satisfied: python-dateutil>=2.7 in /Users/liyueou/Library/Python/3.10/lib/python/site-packages (from matplotlib) (2.8.2)\n",
            "Collecting contourpy>=1.0.1\n",
            "  Downloading contourpy-1.1.0-cp310-cp310-macosx_10_9_x86_64.whl (243 kB)\n",
            "\u001b[2K     \u001b[90m━━━━━━━━━━━━━━━━━━━━━━━━━━━━━━━━━━━━━━━\u001b[0m \u001b[32m243.6/243.6 kB\u001b[0m \u001b[31m8.0 MB/s\u001b[0m eta \u001b[36m0:00:00\u001b[0m\n",
            "\u001b[?25hRequirement already satisfied: numpy>=1.20 in /Library/Frameworks/Python.framework/Versions/3.10/lib/python3.10/site-packages (from matplotlib) (1.24.1)\n",
            "Requirement already satisfied: pyparsing>=2.3.1 in /Users/liyueou/Library/Python/3.10/lib/python/site-packages (from matplotlib) (3.0.9)\n",
            "Collecting pillow>=6.2.0\n",
            "  Downloading Pillow-10.0.0-cp310-cp310-macosx_10_10_x86_64.whl (3.4 MB)\n",
            "\u001b[2K     \u001b[90m━━━━━━━━━━━━━━━━━━━━━━━━━━━━━━━━━━━━━━━━\u001b[0m \u001b[32m3.4/3.4 MB\u001b[0m \u001b[31m21.3 MB/s\u001b[0m eta \u001b[36m0:00:00\u001b[0m00:01\u001b[0m00:01\u001b[0m\n",
            "\u001b[?25hCollecting kiwisolver>=1.0.1\n",
            "  Downloading kiwisolver-1.4.4-cp310-cp310-macosx_10_9_x86_64.whl (65 kB)\n",
            "\u001b[2K     \u001b[90m━━━━━━━━━━━━━━━━━━━━━━━━━━━━━━━━━━━━━━━━\u001b[0m \u001b[32m65.5/65.5 kB\u001b[0m \u001b[31m2.1 MB/s\u001b[0m eta \u001b[36m0:00:00\u001b[0m\n",
            "\u001b[?25hRequirement already satisfied: packaging>=20.0 in /Users/liyueou/Library/Python/3.10/lib/python/site-packages (from matplotlib) (21.3)\n",
            "Collecting cycler>=0.10\n",
            "  Downloading cycler-0.11.0-py3-none-any.whl (6.4 kB)\n",
            "Collecting fonttools>=4.22.0\n",
            "  Downloading fonttools-4.40.0-cp310-cp310-macosx_10_9_x86_64.whl (2.1 MB)\n",
            "\u001b[2K     \u001b[90m━━━━━━━━━━━━━━━━━━━━━━━━━━━━━━━━━━━━━━━━\u001b[0m \u001b[32m2.1/2.1 MB\u001b[0m \u001b[31m17.1 MB/s\u001b[0m eta \u001b[36m0:00:00\u001b[0m00:01\u001b[0m00:01\u001b[0m\n",
            "\u001b[?25hRequirement already satisfied: six>=1.5 in /Users/liyueou/Library/Python/3.10/lib/python/site-packages (from python-dateutil>=2.7->matplotlib) (1.16.0)\n",
            "Installing collected packages: pillow, kiwisolver, fonttools, cycler, contourpy, matplotlib\n",
            "Successfully installed contourpy-1.1.0 cycler-0.11.0 fonttools-4.40.0 kiwisolver-1.4.4 matplotlib-3.7.1 pillow-10.0.0\n",
            "\n",
            "\u001b[1m[\u001b[0m\u001b[34;49mnotice\u001b[0m\u001b[1;39;49m]\u001b[0m\u001b[39;49m A new release of pip available: \u001b[0m\u001b[31;49m22.2.2\u001b[0m\u001b[39;49m -> \u001b[0m\u001b[32;49m23.1.2\u001b[0m\n",
            "\u001b[1m[\u001b[0m\u001b[34;49mnotice\u001b[0m\u001b[1;39;49m]\u001b[0m\u001b[39;49m To update, run: \u001b[0m\u001b[32;49mpip3 install --upgrade pip\u001b[0m\n",
            "Note: you may need to restart the kernel to use updated packages.\n"
          ]
        }
      ],
      "source": [
        "pip install matplotlib\n"
      ]
    },
    {
      "cell_type": "code",
      "execution_count": 9,
      "metadata": {
        "colab": {
          "base_uri": "https://localhost:8080/",
          "height": 528
        },
        "id": "vYyvi_6cnDOT",
        "outputId": "a7e780d4-f63a-4f14-c201-4707f1d5994a"
      },
      "outputs": [
        {
          "data": {
            "image/png": "[encoded data removed]",
            "text/plain": [
              "<Figure size 1000x500 with 2 Axes>"
            ]
          },
          "metadata": {},
          "output_type": "display_data"
        }
      ],
      "source": [
        "import numpy as np\n",
        "import matplotlib.pyplot as plt\n",
        "from sklearn.decomposition import TruncatedSVD\n",
        "\n",
        "# Create a sample Word-Document matrix\n",
        "C = np.array([[1, 2, 0, 1, 0],\n",
        "              [0, 1, 1, 0, 0],\n",
        "              [1, 0, 0, 1, 1],\n",
        "              [0, 1, 1, 2, 1],\n",
        "              [0, 0, 1, 1, 1]])\n",
        "\n",
        "# Apply Singular Value Decomposition\n",
        "svd = TruncatedSVD(n_components=2)  # Specify the desired number of dimensions\n",
        "U = svd.fit_transform(C)\n",
        "E = svd.explained_variance_\n",
        "Vt = svd.components_\n",
        "\n",
        "# Reconstruct the original matrix\n",
        "C_reconstructed = U @ np.diag(E) @ Vt\n",
        "\n",
        "# Plot the original and reconstructed matrices\n",
        "fig, axs = plt.subplots(1, 2, figsize=(10, 5))\n",
        "fig.suptitle('Original Matrix C vs Reconstructed Matrix C')\n",
        "\n",
        "# Plot original matrix C\n",
        "axs[0].imshow(C, cmap='Blues')\n",
        "axs[0].set_title('Original Matrix C')\n",
        "axs[0].set_xticks(np.arange(C.shape[1]))\n",
        "axs[0].set_yticks(np.arange(C.shape[0]))\n",
        "axs[0].set_xticklabels(np.arange(1, C.shape[1] + 1))\n",
        "axs[0].set_yticklabels(np.arange(1, C.shape[0] + 1))\n",
        "plt.setp(axs[0].get_xticklabels(), rotation=45, ha=\"right\")\n",
        "\n",
        "# Plot reconstructed matrix C\n",
        "axs[1].imshow(C_reconstructed, cmap='Blues')\n",
        "axs[1].set_title('Reconstructed Matrix C')\n",
        "axs[1].set_xticks(np.arange(C_reconstructed.shape[1]))\n",
        "axs[1].set_yticks(np.arange(C_reconstructed.shape[0]))\n",
        "axs[1].set_xticklabels(np.arange(1, C_reconstructed.shape[1] + 1))\n",
        "axs[1].set_yticklabels(np.arange(1, C_reconstructed.shape[0] + 1))\n",
        "plt.setp(axs[1].get_xticklabels(), rotation=45, ha=\"right\")\n",
        "\n",
        "# Display the plots\n",
        "plt.tight_layout()\n",
        "plt.show()\n"
      ]
    },
    {
      "cell_type": "markdown",
      "metadata": {
        "id": "eP7VyjR0oPYJ"
      },
      "source": [
        "## How do determine the number of dimension to reduce towards?\n",
        "\n",
        "Determining the best value for n_components (the number of components or dimensions) in an arbitrary Singular Value Decomposition (SVD) depends on the specific problem and the goals of your analysis. Here are a few approaches you can consider to determine the optimal value for n_components:\n",
        "\n",
        "* **Domain Knowledge**: If you have prior knowledge or understanding of the problem \n",
        "domain, you can make an informed decision about the number of components. For example, in text analysis, you might know that there are typically a few main topics or themes, and you can choose n_components accordingly.\n",
        "\n",
        "* **Explained Variance**: You can utilize the explained variance to determine the number of components that capture a significant amount of variance. By plotting the cumulative sum of explained variance against the number of components, you can identify the elbow point, where the explained variance plateaus. This can indicate the optimal value for n_components that captures a substantial portion of the variance.\n",
        "\n",
        "* **Scree Plot**: A scree plot is another graphical approach to analyze the explained variance. It plots the singular values against their corresponding components. The plot shows the rate of decrease in the singular values, and you can choose n_components where the decrease becomes less substantial or levels off.\n",
        "\n",
        "* **Application-Specific Evaluation**: If you have a specific downstream task or evaluation metric in mind, you can use it to guide your selection of n_components. For example, in a classification task, you can train a classifier using different values of n_components and evaluate their performance to choose the optimal value.\n",
        "\n",
        "It's important to note that there is no definitive rule for determining the best n_components. It often involves a trade-off between capturing sufficient information while reducing dimensionality. Experimenting with different values, considering domain knowledge, and evaluating the impact on downstream tasks can help you choose the most appropriate n_components for your specific scenario."
      ]
    },
    {
      "cell_type": "code",
      "execution_count": 10,
      "metadata": {
        "colab": {
          "base_uri": "https://localhost:8080/",
          "height": 472
        },
        "id": "SHcWRTC0oelU",
        "outputId": "bbf0f884-df46-4e2e-81bc-c110bfb31e3e"
      },
      "outputs": [
        {
          "data": {
            "image/png": "[encoded data removed]",
            "text/plain": [
              "<Figure size 640x480 with 1 Axes>"
            ]
          },
          "metadata": {},
          "output_type": "display_data"
        }
      ],
      "source": [
        "import numpy as np\n",
        "import matplotlib.pyplot as plt\n",
        "from sklearn.decomposition import TruncatedSVD\n",
        "\n",
        "# Create a sample Word-Document matrix\n",
        "C = np.array([[1, 2, 0, 1, 0],\n",
        "              [0, 1, 1, 0, 0],\n",
        "              [1, 0, 0, 1, 1],\n",
        "              [0, 1, 1, 2, 1],\n",
        "              [0, 0, 1, 1, 1]])\n",
        "\n",
        "# Apply Singular Value Decomposition\n",
        "svd = TruncatedSVD(n_components=min(C.shape)-1)  # Set n_components to maximum possible value\n",
        "svd.fit(C)\n",
        "explained_variance = svd.explained_variance_\n",
        "\n",
        "# Scree plot\n",
        "plt.plot(np.arange(1, len(explained_variance) + 1), explained_variance, 'bo-')\n",
        "plt.xlabel('Number of Components')\n",
        "plt.ylabel('Explained Variance')\n",
        "plt.title('Scree Plot')\n",
        "plt.xticks(np.arange(1, len(explained_variance) + 1))\n",
        "plt.show()\n"
      ]
    },
    {
      "cell_type": "markdown",
      "metadata": {
        "id": "rlSqiIbSotKr"
      },
      "source": [
        "In this code, we set the `n_components` parameter of `TruncatedSVD` to the maximum possible value `(min(C.shape)-1)` to capture all components. We then fit the SVD on the Word-Document matrix `C` and obtain the explained variance using `explained_variance_`.\n",
        "\n",
        "The scree plot is generated by plotting the singular values (explained variance) against the number of components. The plot displays the rate of decrease in the singular values, representing the amount of variance explained by each component.\n",
        "\n",
        "The x-axis represents the number of components, ranging from 1 to the total number of components available. The y-axis represents the explained variance for each component.\n",
        "\n",
        "By observing the scree plot, you can visually identify the point where the decrease in explained variance becomes less substantial or levels off. This can guide you in selecting an appropriate value for n_components that captures a significant portion of the variance while reducing dimensionality."
      ]
    },
    {
      "cell_type": "code",
      "execution_count": null,
      "metadata": {
        "id": "YfSEHU4joucU"
      },
      "outputs": [],
      "source": []
    }
  ],
  "metadata": {
    "colab": {
      "provenance": []
    },
    "kernelspec": {
      "display_name": "Python 3.10.8 64-bit",
      "language": "python",
      "name": "python3"
    },
    "language_info": {
      "codemirror_mode": {
        "name": "ipython",
        "version": 3
      },
      "file_extension": ".py",
      "mimetype": "text/x-python",
      "name": "python",
      "nbconvert_exporter": "python",
      "pygments_lexer": "ipython3",
      "version": "3.10.8"
    },
    "vscode": {
      "interpreter": {
        "hash": "aee8b7b246df8f9039afb4144a1f6fd8d2ca17a180786b69acc140d282b71a49"
      }
    }
  },
  "nbformat": 4,
  "nbformat_minor": 0
}
